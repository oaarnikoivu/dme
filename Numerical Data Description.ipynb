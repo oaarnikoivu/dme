{
 "cells": [
  {
   "cell_type": "code",
   "execution_count": 72,
   "metadata": {},
   "outputs": [],
   "source": [
    "import numpy as np\n",
    "from scipy import stats"
   ]
  },
  {
   "cell_type": "code",
   "execution_count": 73,
   "metadata": {},
   "outputs": [],
   "source": [
    "x = np.array([12,1,0,2,3,0])"
   ]
  },
  {
   "cell_type": "markdown",
   "metadata": {},
   "source": [
    "## Location measures"
   ]
  },
  {
   "cell_type": "markdown",
   "metadata": {},
   "source": [
    "### Mean\n",
    "\n",
    "- Arithmetic avearge \n",
    "- Most common location measure\n",
    "\n",
    "$$\\frac{1}{n}\\sum_{i=1}^{n}x_i$$"
   ]
  },
  {
   "cell_type": "code",
   "execution_count": 121,
   "metadata": {},
   "outputs": [
    {
     "name": "stdout",
     "output_type": "stream",
     "text": [
      "3.0\n",
      "3.0\n"
     ]
    }
   ],
   "source": [
    "def sample_mean(x):\n",
    "    return np.sum(x) / len(x)\n",
    "\n",
    "print(np.mean(x))\n",
    "print(sample_mean(x))"
   ]
  },
  {
   "cell_type": "markdown",
   "metadata": {},
   "source": [
    "### Median \n",
    "\n",
    "Note that x must be ordered from smallest to largest.\n",
    "\n",
    "$median(x) = x((n+1)/2)$ if n is odd, else $\\frac{1}{2}(x(n/2) + x(n/2+1))$ if n is even \n",
    "\n",
    "- Robust location measure in contrst to the mean. \n",
    "- Precise location of most data points does not affect the median."
   ]
  },
  {
   "cell_type": "code",
   "execution_count": 124,
   "metadata": {},
   "outputs": [
    {
     "data": {
      "text/plain": [
       "1.5"
      ]
     },
     "execution_count": 124,
     "metadata": {},
     "output_type": "execute_result"
    }
   ],
   "source": [
    "def median(x):\n",
    "    return np.median(x)\n",
    "\n",
    "median(x)"
   ]
  },
  {
   "cell_type": "markdown",
   "metadata": {},
   "source": [
    "### Trimmed average \n",
    "\n",
    "- More robust than mean \n",
    "- Average of data when leavining out smallest and largest $k < n/2$ values\n",
    "\n",
    "$$\\frac{1}{n-2k}\\sum_{i=k+1}^{n-k}{x_{(i)}}$$"
   ]
  },
  {
   "cell_type": "markdown",
   "metadata": {},
   "source": [
    "### Mode\n",
    "\n",
    "- Value which occurs the most frequently \n",
    "- Not necessarily unique \n",
    "- Can be more than one mode if several values occur equally often "
   ]
  },
  {
   "cell_type": "code",
   "execution_count": 125,
   "metadata": {},
   "outputs": [
    {
     "data": {
      "text/plain": [
       "array([0])"
      ]
     },
     "execution_count": 125,
     "metadata": {},
     "output_type": "execute_result"
    }
   ],
   "source": [
    "def mode(x):\n",
    "    return stats.mode(x)[0]\n",
    "\n",
    "mode(x)"
   ]
  },
  {
   "cell_type": "markdown",
   "metadata": {},
   "source": [
    "## Scale measures"
   ]
  },
  {
   "cell_type": "markdown",
   "metadata": {},
   "source": [
    "### Sample variance \n",
    "\n",
    "- Answers questions about the spread of the data \n",
    "- Mean squared difference from the sample mean\n",
    "- Squared deviation of the random variable from the mean - aka the \"Central Moment\" \n",
    "\n",
    "$$var(x)  = \\frac{1}{n}\\sum_{i=1}^{n}(x_i - \\bar(x))^2$$"
   ]
  },
  {
   "cell_type": "code",
   "execution_count": 127,
   "metadata": {},
   "outputs": [
    {
     "name": "stdout",
     "output_type": "stream",
     "text": [
      "17.333333333333332\n",
      "17.333333333333332\n"
     ]
    }
   ],
   "source": [
    "def variance(x):\n",
    "    return np.sum((x - np.mean(x))**2) / len(x)\n",
    "\n",
    "print(variance(x))\n",
    "print(np.var(x))"
   ]
  },
  {
   "cell_type": "markdown",
   "metadata": {},
   "source": [
    "### Sample standard deviation\n",
    "\n",
    "- Due to squaring, affected by outliers more than the sample mean. \n",
    "\n",
    "$$std(x) = \\sqrt{var(x)}$$"
   ]
  },
  {
   "cell_type": "code",
   "execution_count": 128,
   "metadata": {},
   "outputs": [
    {
     "name": "stdout",
     "output_type": "stream",
     "text": [
      "4.163331998932265\n",
      "4.163331998932265\n"
     ]
    }
   ],
   "source": [
    "def std(x):\n",
    "    return np.sqrt(variance(x))\n",
    "\n",
    "print(std(x))\n",
    "print(np.std(x))"
   ]
  },
  {
   "cell_type": "markdown",
   "metadata": {},
   "source": [
    "### Median absolute deviation from the mean\n",
    "\n",
    "- Robust measure of the scale of data \n",
    "\n",
    "$$MAD(x) = median(|x_i - median(x)|)$$"
   ]
  },
  {
   "cell_type": "code",
   "execution_count": 129,
   "metadata": {},
   "outputs": [
    {
     "name": "stdout",
     "output_type": "stream",
     "text": [
      "1.5\n",
      "1.5\n"
     ]
    }
   ],
   "source": [
    "def mad(x):\n",
    "    xs = np.abs(x - median(x))\n",
    "    return median(xs)\n",
    "\n",
    "print(mad(x))\n",
    "print(stats.median_abs_deviation(x))"
   ]
  },
  {
   "cell_type": "markdown",
   "metadata": {},
   "source": [
    "### Interquartile range \n",
    "\n",
    "- Robust quantity \n",
    "- Difference between upper and lower end of what contains the central 50% of the data\n",
    "\n",
    "$$IQR = Q_3 - Q_1$$"
   ]
  },
  {
   "cell_type": "code",
   "execution_count": 130,
   "metadata": {},
   "outputs": [
    {
     "name": "stdout",
     "output_type": "stream",
     "text": [
      "2.5\n",
      "2.5\n"
     ]
    }
   ],
   "source": [
    "def iqr(x):\n",
    "    q3 = np.quantile(x, 0.75)\n",
    "    q1 = np.quantile(x, 0.25)\n",
    "    return q3 - q1\n",
    "\n",
    "print(iqr(x))\n",
    "print(stats.iqr(x))"
   ]
  },
  {
   "cell_type": "markdown",
   "metadata": {},
   "source": [
    "## Shape measures "
   ]
  },
  {
   "cell_type": "markdown",
   "metadata": {},
   "source": [
    "### Sample skewness\n",
    "\n",
    "- Measures the asymmetry of the data. \n",
    "- Does not take into account location and scale, due to having zero mean and unit standard deviation.\n",
    "- Positive skewness: distribution has longer right tail -> mass concentrated on the left, elongated on the right.\n",
    "- Negative skewness: Other way around: longer left tail \n",
    "- Data symmetric around the mean have zero skewness \n",
    "- Zero skewness does not necessarily mean the data are symmetric around their mean! \n",
    "- Sample skewness is sensitive to outleirs due to the third power\n",
    "\n",
    "$$skew(x) = \\frac{1}{n}\\sum_{i+1}^n(\\frac{(x_i - \\bar{x})}{std(x)})^3$$"
   ]
  },
  {
   "cell_type": "code",
   "execution_count": 134,
   "metadata": {},
   "outputs": [
    {
     "name": "stdout",
     "output_type": "stream",
     "text": [
      "1.5381540928007886\n",
      "1.538154092800789\n"
     ]
    }
   ],
   "source": [
    "def skew(x):\n",
    "    return np.sum(((x - np.mean(x)) / np.std(x))**3) / len(x)\n",
    "\n",
    "print(skew(x))\n",
    "print(stats.skew(x))"
   ]
  },
  {
   "cell_type": "markdown",
   "metadata": {},
   "source": [
    "### Galtons' measure of skewness \n",
    "\n",
    "- More robust measure of skewness, obtained by the means of quartiles.\n",
    "- By definition, quartiles are positive. \n",
    "- First term measures range of the third quater while the 2nd term measures the range of the 2nd quarter.\n",
    "- Positive if the range of the third quater is larger than the range of the first quarter.\n",
    "\n",
    "$$GMS = \\frac{(Q_3 - Q_2) - (Q_2 - Q_1)}{Q_3 - Q_1}$$"
   ]
  },
  {
   "cell_type": "code",
   "execution_count": 177,
   "metadata": {},
   "outputs": [
    {
     "name": "stdout",
     "output_type": "stream",
     "text": [
      "0.27552888568262146\n",
      "0.27552888568262146\n"
     ]
    }
   ],
   "source": [
    "def galtons(x):\n",
    "    q3 = np.quantile(x, 0.75)\n",
    "    q2 = np.median(x)\n",
    "    q1 = np.quantile(x, 0.25)\n",
    "    \n",
    "    lhs = q3 - q2\n",
    "    rhs = q2 - q1\n",
    "    den = q3 - q1\n",
    "    \n",
    "    return (lhs - rhs) / den\n",
    "\n",
    "tst = np.random.rand(1, 10)\n",
    "\n",
    "print(galtons(tst))\n",
    "\n",
    "# Transform x \n",
    "x = (x/2) - 2\n",
    "\n",
    "# Not affected by transformations\n",
    "print(galtons(tst))"
   ]
  },
  {
   "cell_type": "markdown",
   "metadata": {},
   "source": [
    "### Sample kurtosis\n",
    "\n",
    "- Sample skewness to the fourth power \n",
    "- Insenstive to symmetry of distribution of x. \n",
    "- Measures how often x takes on values that are considerably larger or smaller than its standard deviation. \n",
    "- Measures the heaviness of the tails of the distribution of x. \n",
    "- The kurtosis of any univariate normal distribution is 3\n",
    "\n",
    "$$kurt(x) = \\frac{1}{n}\\sum_{i+1}^n(\\frac{(x_i - \\bar{x})}{std(x)})^4$$"
   ]
  },
  {
   "cell_type": "code",
   "execution_count": 163,
   "metadata": {},
   "outputs": [
    {
     "data": {
      "text/plain": [
       "3.738905325443787"
      ]
     },
     "execution_count": 163,
     "metadata": {},
     "output_type": "execute_result"
    }
   ],
   "source": [
    "def kurtosis(x):\n",
    "    return np.sum(((x - np.mean(x)) / np.std(x))**4) / len(x)\n",
    "\n",
    "kurtosis(x)"
   ]
  },
  {
   "cell_type": "markdown",
   "metadata": {},
   "source": [
    "### Robust kurtosis\n",
    "\n",
    "- Defined using quantiles\n",
    "- Measures lenghts of the upper and lower tails and normalises with IQR.\n",
    "\n",
    "$$rk = \\frac{(q_{7/8} - q_{5/8}) + (q_{3/8} - q_{1/8})}{Q_3 - Q_1}$$"
   ]
  },
  {
   "cell_type": "code",
   "execution_count": 179,
   "metadata": {},
   "outputs": [
    {
     "data": {
      "text/plain": [
       "2.55"
      ]
     },
     "execution_count": 179,
     "metadata": {},
     "output_type": "execute_result"
    }
   ],
   "source": [
    "def robust_kurtosis(x):\n",
    "    q78 = np.quantile(x, 0.875)\n",
    "    q58 = np.quantile(x, 0.625)\n",
    "    q38 = np.quantile(x, 0.375)\n",
    "    q18 = np.quantile(x, 0.125)\n",
    "    q3 = np.quantile(x, 0.75)\n",
    "    q1 = np.quantile(x, 0.25)\n",
    "    \n",
    "    lhs = q78 - q38\n",
    "    rhs = q38 - q18\n",
    "    \n",
    "    return (lhs + rhs) / (q3 - q1)\n",
    "\n",
    "robust_kurtosis(x)"
   ]
  },
  {
   "cell_type": "markdown",
   "metadata": {},
   "source": [
    "## Multivariate Measures"
   ]
  },
  {
   "cell_type": "markdown",
   "metadata": {},
   "source": [
    "### Sample covariance \n",
    "\n",
    "- Measures the strength of linear association between observations of two variables x, and y. \n",
    "\n",
    "$$cov(x,y) = \\frac{1}{n}\\sum_{i=1}^n(x_i - \\bar{x})(y_i - \\bar{y})$$\n",
    "\n",
    "- Is an estimator of the covariance of two random variables: x and y, given by: \n",
    "\n",
    "$$Cov[x,y] = \\mathbb{E}[(x - \\mathbb{E}[x])(y - \\mathbb{E}[y])] = \\mathbb{E}[xy] - \\mathbb{E}[x]\\mathbb{E}[y]$$\n",
    "\n",
    "$$Cov[x,x] = Var[x]$$\n",
    "\n",
    "$$Cov[x,y] = Cov[y,x]$$\n",
    "\n",
    "$$Cov[ax + b,y] = aCov[x,y]$$\n",
    "\n",
    "- Value of covariance depennds on the scale of x and y, this is often undesirable.\n",
    "- Estimator of the covariance matrix:\n",
    "\n",
    "$$Cov[x] = \\mathbb{E}[(x - \\mathbb{E}[x])(x - \\mathbb{E}[x])^T]$$\n",
    "\n",
    "- Covariance matrix is symmetric, and positive semi-definite due to linearity of expectation.\n",
    "\n",
    "$$w^TCov[x]w = \\mathbb{E}[w^T(x - \\mathbb{E}[x])^Tw] = \\mathbb{E}[(w^T(x-\\mathbb{E}[x]))^2] \\geq 0$$\n",
    "\n",
    "- Thus, it has an eigenvalue decomposition $Cov[x] = UAU^T$ where A is a diagonal matrix containing the eigenvalues, and U is an orthogonal matrix with the eigenvectors as columns. \n",
    "\n",
    "\n",
    "#### Total variance\n",
    "\n",
    "- Sum of all eigenvalues, which is equivalent to the trace of the covariance matrix. \n",
    "\n",
    "\n",
    "$$trace(Cov[x]) = trace(UAU^T)$$\n",
    "\n",
    "Note that for an orthogonal matrix U, $U^TU$ is the identity matrix, thus: \n",
    "\n",
    "$$trace(Cov[x]) = trace(A)$$ \n",
    "$$ = \\sum_{i=1}^d\\lambda_i$$\n",
    "\n",
    "### Covariance matrix of linearly transformed variable Ax + b: \n",
    "\n",
    "$$Cov[Ax + b] = ACov[x]A^T$$"
   ]
  },
  {
   "cell_type": "code",
   "execution_count": 400,
   "metadata": {},
   "outputs": [
    {
     "data": {
      "text/plain": [
       "0.002936493931804383"
      ]
     },
     "execution_count": 400,
     "metadata": {},
     "output_type": "execute_result"
    }
   ],
   "source": [
    "x = np.random.rand(1, 10)\n",
    "y = np.random.rand(1, 10)\n",
    "\n",
    "def covariance(x, y):\n",
    "    return (np.sum((x - np.mean(x)) * (y - np.mean(y))) / len(x[0]))\n",
    "\n",
    "covariance(x,y)"
   ]
  },
  {
   "cell_type": "code",
   "execution_count": 401,
   "metadata": {},
   "outputs": [
    {
     "data": {
      "text/plain": [
       "True"
      ]
     },
     "execution_count": 401,
     "metadata": {},
     "output_type": "execute_result"
    }
   ],
   "source": [
    "from sklearn.datasets import make_spd_matrix\n",
    "\n",
    "X = make_spd_matrix(3, random_state=42)\n",
    "\n",
    "def check_symmetry(A):\n",
    "    return True if A.T.all() == A.all() else False \n",
    "\n",
    "def total_variance(A):\n",
    "    return np.sum(np.diag(A))\n",
    "\n",
    "check_symmetry(X)"
   ]
  },
  {
   "cell_type": "code",
   "execution_count": 402,
   "metadata": {},
   "outputs": [
    {
     "name": "stdout",
     "output_type": "stream",
     "text": [
      "[[ 0.45203843 -0.80357895  0.13406383]\n",
      " [-0.80357895  3.35300376 -0.36528453]\n",
      " [ 0.13406383 -0.36528453  0.89352473]]\n",
      "\n",
      "Total variance: 4.699, i.e. sum of eigen values: 4.699\n"
     ]
    }
   ],
   "source": [
    "# EV Decomposition to get covariance matrix\n",
    "\n",
    "eigVals, eigVecs = np.linalg.eigh(X)\n",
    "eigVals = np.diag(eigVals)\n",
    "\n",
    "X_Cov = eigVecs.dot(eigVals).dot(eigVecs.T)\n",
    "print(X_Cov)\n",
    "\n",
    "print(f'\\nTotal variance: {total_variance(X_Cov):.3f}, i.e. sum of eigen values: {np.sum(eigVals):.3f}')"
   ]
  },
  {
   "cell_type": "markdown",
   "metadata": {},
   "source": [
    "### Pearsons correlation coefficient \n",
    "\n",
    "- Normalises the covariance using the product of std\n",
    "- Values between -1 and 1, measures linear relation. \n",
    "- If 0, values are uncorrelated. This does not mean the values are statistically independent!\n",
    "\n",
    "$$p(x,y) = \\frac{cov(x,y)}{std(x)std(y)}$$"
   ]
  },
  {
   "cell_type": "code",
   "execution_count": 403,
   "metadata": {},
   "outputs": [
    {
     "name": "stdout",
     "output_type": "stream",
     "text": [
      "0.04732815368958913\n",
      "\n",
      "[[1.         0.04732815]\n",
      " [0.04732815 1.        ]]\n"
     ]
    }
   ],
   "source": [
    "def pearsons(x, y):\n",
    "    return (covariance(x,y)) / (np.std(x) * np.std(y))\n",
    "\n",
    "print(pearsons(x, y))\n",
    "print()\n",
    "print(np.corrcoef(x,y))"
   ]
  },
  {
   "cell_type": "markdown",
   "metadata": {},
   "source": [
    "### Kendall's Tau\n",
    "\n",
    "- Robust correlation measure \n",
    "- Does not depened on the relative distances between samples. \n",
    "- Rank correlation \n",
    "- Values between -1 and 1\n",
    "- Does not take relative distances between neighbouring samples into account with -1 indicating that all pairs are discordant, and 1 indiciating that all pairs are concordant.\n",
    "- Robust to outliers\n",
    "\n",
    "#### Concordant: \n",
    "\n",
    "- Concordant if order of elements is consistent between two pairs: i.e. $x_i > x_j$ and $y_i > y_j$ or if both $x_i < x_j$ and $y_i < y_j$ for a pair of observations $(x_i, y_i)$ and $(x_j, y_j)$\n",
    "\n",
    "#### Discordant: \n",
    "\n",
    "- Discordant if both $x_i > x_j$ and $y_i < y_j$ or if both $x_i < x_j$ and $y_i > y_j$.\n",
    "\n",
    "- If $x_i = x_j$ or $y_i = y_j$ -> neither concordant nor discordant\n",
    "\n",
    "$$\\tau(x,y) = \\frac{n_c(x,y) - n_d(x,y)}{n(n-1)/2}$$"
   ]
  },
  {
   "cell_type": "code",
   "execution_count": 423,
   "metadata": {},
   "outputs": [
    {
     "name": "stdout",
     "output_type": "stream",
     "text": [
      "0.33333333333333337\n",
      "0.33333333333333337\n"
     ]
    },
    {
     "data": {
      "image/png": "[encoded data removed]",
      "text/plain": [
       "<Figure size 432x288 with 1 Axes>"
      ]
     },
     "metadata": {
      "needs_background": "light"
     },
     "output_type": "display_data"
    }
   ],
   "source": [
    "import matplotlib.pyplot as plt\n",
    "\n",
    "def slope(x, y):\n",
    "    X = x - x.mean()\n",
    "    Y = y - y.mean() \n",
    "    return (X.dot(Y)) / (X.dot(X))\n",
    "\n",
    "xs = np.array([2,5,9])\n",
    "ys = np.array([2,4,3])\n",
    "xs_stretch = np.array([2,5,18])\n",
    "\n",
    "plt.scatter(xs, ys)\n",
    "\n",
    "tau, p_value = stats.kendalltau(xs, ys)\n",
    "print(tau)\n",
    "\n",
    "tau_stretch, _ = stats.kendalltau(xs_stretch, ys)\n",
    "print(tau_stretch)"
   ]
  }
 ],
 "metadata": {
  "kernelspec": {
   "display_name": "Python 3",
   "language": "python",
   "name": "python3"
  },
  "language_info": {
   "codemirror_mode": {
    "name": "ipython",
    "version": 3
   },
   "file_extension": ".py",
   "mimetype": "text/x-python",
   "name": "python",
   "nbconvert_exporter": "python",
   "pygments_lexer": "ipython3",
   "version": "3.8.5"
  }
 },
 "nbformat": 4,
 "nbformat_minor": 4
}
