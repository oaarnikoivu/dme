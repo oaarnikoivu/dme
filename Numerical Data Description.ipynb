{
 "cells": [
  {
   "cell_type": "code",
   "execution_count": 72,
   "metadata": {},
   "outputs": [],
   "source": [
    "import numpy as np\n",
    "from scipy import stats"
   ]
  },
  {
   "cell_type": "code",
   "execution_count": 73,
   "metadata": {},
   "outputs": [],
   "source": [
    "x = np.array([12,1,0,2,3,0])"
   ]
  },
  {
   "cell_type": "markdown",
   "metadata": {},
   "source": [
    "## Location measures"
   ]
  },
  {
   "cell_type": "markdown",
   "metadata": {},
   "source": [
    "### Mean\n",
    "\n",
    "- Arithmetic avearge \n",
    "- Most common location measure\n",
    "\n",
    "$$\\frac{1}{n}\\sum_{i=1}^{n}x_i$$"
   ]
  },
  {
   "cell_type": "code",
   "execution_count": 121,
   "metadata": {},
   "outputs": [
    {
     "name": "stdout",
     "output_type": "stream",
     "text": [
      "3.0\n",
      "3.0\n"
     ]
    }
   ],
   "source": [
    "def sample_mean(x):\n",
    "    return np.sum(x) / len(x)\n",
    "\n",
    "print(np.mean(x))\n",
    "print(sample_mean(x))"
   ]
  },
  {
   "cell_type": "markdown",
   "metadata": {},
   "source": [
    "### Median \n",
    "\n",
    "Note that x must be ordered from smallest to largest.\n",
    "\n",
    "$median(x) = x((n+1)/2)$ if n is odd, else $\\frac{1}{2}(x(n/2) + x(n/2+1))$ if n is even \n",
    "\n",
    "- Robust location measure in contrst to the mean. \n",
    "- Precise location of most data points does not affect the median."
   ]
  },
  {
   "cell_type": "code",
   "execution_count": 124,
   "metadata": {},
   "outputs": [
    {
     "data": {
      "text/plain": [
       "1.5"
      ]
     },
     "execution_count": 124,
     "metadata": {},
     "output_type": "execute_result"
    }
   ],
   "source": [
    "def median(x):\n",
    "    return np.median(x)\n",
    "\n",
    "median(x)"
   ]
  },
  {
   "cell_type": "markdown",
   "metadata": {},
   "source": [
    "### Trimmed average \n",
    "\n",
    "- More robust than mean \n",
    "- Average of data when leavining out smallest and largest $k < n/2$ values\n",
    "\n",
    "$$\\frac{1}{n-2k}\\sum_{i=k+1}^{n-k}{x_{(i)}}$$"
   ]
  },
  {
   "cell_type": "markdown",
   "metadata": {},
   "source": [
    "### Mode\n",
    "\n",
    "- Value which occurs the most frequently \n",
    "- Not necessarily unique \n",
    "- Can be more than one mode if several values occur equally often "
   ]
  },
  {
   "cell_type": "code",
   "execution_count": 125,
   "metadata": {},
   "outputs": [
    {
     "data": {
      "text/plain": [
       "array([0])"
      ]
     },
     "execution_count": 125,
     "metadata": {},
     "output_type": "execute_result"
    }
   ],
   "source": [
    "def mode(x):\n",
    "    return stats.mode(x)[0]\n",
    "\n",
    "mode(x)"
   ]
  },
  {
   "cell_type": "markdown",
   "metadata": {},
   "source": [
    "## Scale measures"
   ]
  },
  {
   "cell_type": "markdown",
   "metadata": {},
   "source": [
    "### Sample variance \n",
    "\n",
    "- Answers questions about the spread of the data \n",
    "- Mean squared difference from the sample mean\n",
    "- Squared deviation of the random variable from the mean - aka the \"Central Moment\" \n",
    "\n",
    "$$var(x)  = \\frac{1}{n}\\sum_{i=1}^{n}(x_i - \\bar(x))^2$$"
   ]
  },
  {
   "cell_type": "code",
   "execution_count": 127,
   "metadata": {},
   "outputs": [
    {
     "name": "stdout",
     "output_type": "stream",
     "text": [
      "17.333333333333332\n",
      "17.333333333333332\n"
     ]
    }
   ],
   "source": [
    "def variance(x):\n",
    "    return np.sum((x - np.mean(x))**2) / len(x)\n",
    "\n",
    "print(variance(x))\n",
    "print(np.var(x))"
   ]
  },
  {
   "cell_type": "markdown",
   "metadata": {},
   "source": [
    "### Sample standard deviation\n",
    "\n",
    "- Due to squaring, affected by outliers more than the sample mean. \n",
    "\n",
    "$$std(x) = \\sqrt{var(x)}$$"
   ]
  },
  {
   "cell_type": "code",
   "execution_count": 128,
   "metadata": {},
   "outputs": [
    {
     "name": "stdout",
     "output_type": "stream",
     "text": [
      "4.163331998932265\n",
      "4.163331998932265\n"
     ]
    }
   ],
   "source": [
    "def std(x):\n",
    "    return np.sqrt(variance(x))\n",
    "\n",
    "print(std(x))\n",
    "print(np.std(x))"
   ]
  },
  {
   "cell_type": "markdown",
   "metadata": {},
   "source": [
    "### Median absolute deviation from the mean\n",
    "\n",
    "- Robust measure of the scale of data \n",
    "\n",
    "$$MAD(x) = median(|x_i - median(x)|)$$"
   ]
  },
  {
   "cell_type": "code",
   "execution_count": 129,
   "metadata": {},
   "outputs": [
    {
     "name": "stdout",
     "output_type": "stream",
     "text": [
      "1.5\n",
      "1.5\n"
     ]
    }
   ],
   "source": [
    "def mad(x):\n",
    "    xs = np.abs(x - median(x))\n",
    "    return median(xs)\n",
    "\n",
    "print(mad(x))\n",
    "print(stats.median_abs_deviation(x))"
   ]
  },
  {
   "cell_type": "markdown",
   "metadata": {},
   "source": [
    "### Interquartile range \n",
    "\n",
    "- Robust quantity \n",
    "- Difference between upper and lower end of what contains the central 50% of the data\n",
    "\n",
    "$$IQR = Q_3 - Q_1$$"
   ]
  },
  {
   "cell_type": "code",
   "execution_count": 130,
   "metadata": {},
   "outputs": [
    {
     "name": "stdout",
     "output_type": "stream",
     "text": [
      "2.5\n",
      "2.5\n"
     ]
    }
   ],
   "source": [
    "def iqr(x):\n",
    "    q3 = np.quantile(x, 0.75)\n",
    "    q1 = np.quantile(x, 0.25)\n",
    "    return q3 - q1\n",
    "\n",
    "print(iqr(x))\n",
    "print(stats.iqr(x))"
   ]
  },
  {
   "cell_type": "markdown",
   "metadata": {},
   "source": [
    "## Shape measures "
   ]
  },
  {
   "cell_type": "markdown",
   "metadata": {},
   "source": [
    "### Sample skewness\n",
    "\n",
    "- Measures the asymmetry of the data. \n",
    "- Does not take into account location and scale, due to having zero mean and unit standard deviation.\n",
    "- Positive skewness: distribution has longer right tail -> mass concentrated on the left, elongated on the right.\n",
    "- Negative skewness: Other way around: longer left tail \n",
    "- Data symmetric around the mean have zero skewness \n",
    "- Zero skewness does not necessarily mean the data are symmetric around their mean! \n",
    "- Sample skewness is sensitive to outleirs due to the third power\n",
    "\n",
    "$$skew(x) = \\frac{1}{n}\\sum_{i+1}^n(\\frac{(x_i - \\bar{x})}{std(x)})^3$$"
   ]
  },
  {
   "cell_type": "code",
   "execution_count": null,
   "metadata": {},
   "outputs": [],
   "source": [
    "def skew(x):\n",
    "    return np.sum((x))"
   ]
  }
 ],
 "metadata": {
  "kernelspec": {
   "display_name": "Python 3",
   "language": "python",
   "name": "python3"
  },
  "language_info": {
   "codemirror_mode": {
    "name": "ipython",
    "version": 3
   },
   "file_extension": ".py",
   "mimetype": "text/x-python",
   "name": "python",
   "nbconvert_exporter": "python",
   "pygments_lexer": "ipython3",
   "version": "3.8.5"
  }
 },
 "nbformat": 4,
 "nbformat_minor": 4
}
